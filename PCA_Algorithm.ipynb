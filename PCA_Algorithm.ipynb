{
  "nbformat": 4,
  "nbformat_minor": 0,
  "metadata": {
    "colab": {
      "provenance": [],
      "authorship_tag": "ABX9TyMe8FMY8sxdY9V/n8zfxdRj",
      "include_colab_link": true
    },
    "kernelspec": {
      "name": "python3",
      "display_name": "Python 3"
    },
    "language_info": {
      "name": "python"
    }
  },
  "cells": [
    {
      "cell_type": "markdown",
      "metadata": {
        "id": "view-in-github",
        "colab_type": "text"
      },
      "source": [
        "<a href=\"https://colab.research.google.com/github/move7/Statistics-/blob/master/PCA_Algorithm.ipynb\" target=\"_parent\"><img src=\"https://colab.research.google.com/assets/colab-badge.svg\" alt=\"Open In Colab\"/></a>"
      ]
    },
    {
      "cell_type": "markdown",
      "source": [
        "##PCA Algorithme\n",
        "\n",
        "**`L'ACP`** (Analyse en Composantes, Principal Component Analysis), a pour but de réduire la dimensionnalité des données tout en conservant un maximum d'informations (variance)."
      ],
      "metadata": {
        "id": "UuCjh3lvVnUa"
      }
    },
    {
      "cell_type": "markdown",
      "source": [
        "Préparer l'environnement et les données"
      ],
      "metadata": {
        "id": "_hSR6b29N7dg"
      }
    },
    {
      "cell_type": "code",
      "source": [
        "import numpy as np\n",
        "import matplotlib.pyplot as plt"
      ],
      "metadata": {
        "id": "EJazeg1AOGaa"
      },
      "execution_count": 6,
      "outputs": []
    },
    {
      "cell_type": "markdown",
      "source": [
        "# Matrice de données (5 samples x 3 features)\n",
        "X = \\begin{bmatrix} 2 & 2 & 3 \\\\ 3 & 1 & 2 \\\\ 1 & 0 & 3 \\\\ 2 & 1 & 4 \\\\ 2 & 1 & 2 \\end{bmatrix}"
      ],
      "metadata": {
        "id": "GXf7cNExPV70"
      }
    },
    {
      "cell_type": "code",
      "source": [
        "X = np.array([\n",
        "    [2, 2, 3],\n",
        "    [3, 1, 2],\n",
        "    [1, 0, 3],\n",
        "    [2, 1, 4],\n",
        "    [2, 1, 2]\n",
        "])\n",
        "print(\"Matrix (X):\\n\", X)"
      ],
      "metadata": {
        "id": "TUMhN585PWlc",
        "colab": {
          "base_uri": "https://localhost:8080/"
        },
        "outputId": "281a87da-fa19-4548-88cc-b546cb6daee4"
      },
      "execution_count": 7,
      "outputs": [
        {
          "output_type": "stream",
          "name": "stdout",
          "text": [
            "Matrix (X):\n",
            " [[2 2 3]\n",
            " [3 1 2]\n",
            " [1 0 3]\n",
            " [2 1 4]\n",
            " [2 1 2]]\n"
          ]
        }
      ]
    },
    {
      "cell_type": "markdown",
      "source": [
        "##Calcul de la moyenne, la variance et l'écart type de chaque colonne\n",
        "- Moyenne : $\\bar{X}_i = \\frac{\\sum_i X_{i1}}{n}$\n",
        "- Variance : $\\mathrm{Var}(X_i) = \\frac{1}{n - 1} \\sum_{i=1}^n (X_{ij} - \\bar{X}_j)^2$\n",
        "- Écart type :  $\\sigma_i = \\sqrt{\\mathrm{Var}(X_i)}$$\n",
        "\n",
        "- Colonne 1:\n",
        "   -  $\\bar{X}_1 = \\frac{2 + 3 + 1 + 2 + 2}{5} = \\frac{10}{5} = 2$\n",
        "   - $\\mathrm{Var}(X_1) =\\frac{(2 - 2)^2 + (3 - 2)^2 + (1 - 2)^2 + (2 - 2)^2 + (2 - 2)^2}{4} = \\frac{2}{4} = 0.5$\n",
        "    - $\\sigma_1 = \\sqrt{0.5}\\approx0.7071$\n",
        "    \n",
        "\n",
        "-  Colonne 2:\n",
        "   -  $\\bar{X}_2 = \\frac{2 + 1 + 0 + 1 + 1 }{5} = \\frac{5}{5} = 1$\n",
        "   - $\\mathrm{Var}(X_2) = \\frac{(2 - 1)^2 + (1 - 1)^2 + (0 - 1)^2 + (1 - 1)^2 + (1 - 1)^2}{4} = \\frac{2}{4} = 0.5$\n",
        "  - $\\sigma_2 = \\sqrt{0.5}\\approx0.7071$\n",
        "\n",
        "-  Colonne 3:\n",
        "   -  $\\bar{X}_3 = \\frac{3 + 2 + 3 + 4 + 2 }{5} = \\frac{14}{5} = 2.8$\n",
        "   - $\\mathrm{Var}(X_3) = \\frac{(3 - 2.8)^2 + (2 - 2.8)^2 + (3 - 2.8)^2 + (4 - 2.8)^2 + (2 - 2.8)^2}{4} = 0.7$\n",
        "  - $\\sigma_3 = \\sqrt{0.7}\\approx0.8367$\n"
      ],
      "metadata": {
        "id": "9xCsr84-PYo7"
      }
    },
    {
      "cell_type": "code",
      "source": [
        "\n",
        "means = X.mean(axis=0)\n",
        "variances = np.var(X, axis=0, ddof=1)\n",
        "stds = np.std(X, axis=0, ddof=1)  # ddof=0 pour diviser par n et pas n-1\n",
        "print(\" means       : \",means)\n",
        "print(\" variances   : \",variances)\n",
        "print(\" stds       : \",stds)"
      ],
      "metadata": {
        "colab": {
          "base_uri": "https://localhost:8080/"
        },
        "id": "utDWm5MddsMe",
        "outputId": "9083a5f9-c777-43a8-d281-b701f29befcd"
      },
      "execution_count": 9,
      "outputs": [
        {
          "output_type": "stream",
          "name": "stdout",
          "text": [
            " means       :  [2.  1.  2.8]\n",
            " variances   :  [0.5 0.5 0.7]\n",
            " stds       :  [0.70710678 0.70710678 0.83666003]\n"
          ]
        }
      ]
    },
    {
      "cell_type": "markdown",
      "source": [
        "### Matrice centrée & Matrice standardisée\n",
        "\n",
        "- Matrice centrée :$X_{centré} = X - \\bar{X}$\n",
        "$$\n",
        "X_{centré} = \\begin{bmatrix}\n",
        "    2-2 & 2-1 & 3-2.8 \\\\\n",
        "    3-2 & 1-1 & 2-2.8 \\\\\n",
        "    1-2 & 0-1 & 3-2.8 \\\\\n",
        "    2-2 & 1-1 & 4-2.8 \\\\\n",
        "    2-2 & 1-1 & 2-2.8\n",
        "\\end{bmatrix}\n",
        "$$\n",
        "$$\n",
        "X_{centré} = \\begin{bmatrix}\n",
        "    0 & 1 & 0.2 \\\\\n",
        "    1 & 0 & -0.8 \\\\\n",
        "    -1 & -1 & 0.2 \\\\\n",
        "    0 & 0 & 1.2 \\\\\n",
        "    0 & 0 & -0.8\n",
        "\\end{bmatrix}\n",
        "$$\n",
        "\n",
        "\n",
        "- Matrice standardisée :$X_{standardisé} = \\frac{X - \\bar{X}}{\\sigma}= \\frac{X_{centré}}{\\sigma}$\n",
        "$$\n",
        "X_{standardisé} = \\begin{bmatrix}\n",
        "    0 & \\frac{1}{\\sqrt{0.5}} & \\frac{0.2}{\\sqrt{0.7}} \\\\\n",
        "    \\frac{1}{\\sqrt{0.5}} & 0 & \\frac{-0.8}{\\sqrt{0.7}} \\\\\n",
        "    \\frac{-1}{\\sqrt{0.5}} & \\frac{-1}{\\sqrt{0.5}} & \\frac{0.2}{\\sqrt{0.7}} \\\\\n",
        "    0 & 0 & \\frac{1.2}{\\sqrt{0.7}} \\\\\n",
        "    0 & 0 & \\frac{-0.8}{\\sqrt{0.7}}\n",
        "\\end{bmatrix}=\\begin{bmatrix}\n",
        "0 & 1.414 & 0.240 \\\\\n",
        "1.414 & 0 & -0.960 \\\\\n",
        "-1.414 & -1.414 & 0.240 \\\\\n",
        "0 & 0 & 1.430 \\\\\n",
        "0 & 0 & -0.960 \\\\\n",
        "\\end{bmatrix}\n",
        "$$\n"
      ],
      "metadata": {
        "id": "ChBtUGsKhflP"
      }
    },
    {
      "cell_type": "code",
      "source": [
        "# Matrice centrée\n",
        "X_centre = X - means\n",
        "\n",
        "# Matrice standardisée (centrée-réduite)\n",
        "X_standardise = X_centre / stds\n",
        "\n",
        "print(\"Matrice centrée :\\n\", X_centre)\n",
        "print(\"Matrice standardisée :\\n\", X_standardise)"
      ],
      "metadata": {
        "colab": {
          "base_uri": "https://localhost:8080/"
        },
        "id": "HVo-BTlUh3g-",
        "outputId": "fd52bc04-d54e-4d87-d02a-054e3b09138c"
      },
      "execution_count": 10,
      "outputs": [
        {
          "output_type": "stream",
          "name": "stdout",
          "text": [
            "Matrice centrée :\n",
            " [[ 0.   1.   0.2]\n",
            " [ 1.   0.  -0.8]\n",
            " [-1.  -1.   0.2]\n",
            " [ 0.   0.   1.2]\n",
            " [ 0.   0.  -0.8]]\n",
            "Matrice standardisée :\n",
            " [[ 0.          1.41421356  0.23904572]\n",
            " [ 1.41421356  0.         -0.95618289]\n",
            " [-1.41421356 -1.41421356  0.23904572]\n",
            " [ 0.          0.          1.43427433]\n",
            " [ 0.          0.         -0.95618289]]\n"
          ]
        }
      ]
    },
    {
      "cell_type": "markdown",
      "source": [
        "##Compute the matrix R :\n",
        "$R = \\frac{1}{n-1} X_{\\text{standardisé}}^T X_{\\text{standardisé}}$\n",
        "\n",
        "$$\n",
        "R =  \\frac{1}{4} \\begin{bmatrix}\n",
        "0 & 1.414 & -1.414 & 0 & 0 \\\\\n",
        "1.414 & 0 & -1.414 & 0 & 0 \\\\\n",
        "0.240 & -0.960 & 0.240 & 1.430 & -0.960 \\\\\n",
        "\\end{bmatrix}\n",
        "\\begin{bmatrix}\n",
        "0 & 1.414 & 0.240 \\\\\n",
        "1.414 & 0 & -0.960 \\\\\n",
        "-1.414 & -1.414 & 0.240 \\\\\n",
        "0 & 0 & 1.430 \\\\\n",
        "0 & 0 & -0.960 \\\\\n",
        "\\end{bmatrix}=\\frac{1}{4}\\begin{bmatrix}\n",
        "4.000 & 2.000 & -1.697 \\\\\n",
        "2.000 & 4.000 & 0.000 \\\\\n",
        "-1.697 & 0.000 & 4.005 \\\\\n",
        "\\end{bmatrix}=\\begin{bmatrix}\n",
        "1 & 0.5 & -0.42 \\\\\n",
        "0.5 & 1 & 0 \\\\\n",
        "-0.42 & 0 & 1 \\\\\n",
        "\\end{bmatrix}\n",
        "$$\n",
        "\n",
        "\n"
      ],
      "metadata": {
        "id": "TYNkFle_oWWI"
      }
    },
    {
      "cell_type": "code",
      "source": [
        "# Matrice corrélation\n",
        "R = (1/4) * (X_standardise.T @ X_standardise)\n",
        "\n",
        "print(\"\\nMatrice corrélation :\\n\", np.round(R, 3))\n"
      ],
      "metadata": {
        "colab": {
          "base_uri": "https://localhost:8080/"
        },
        "id": "PB3R1FU_px5o",
        "outputId": "3280257e-cf49-4483-fee3-168faca0d74a"
      },
      "execution_count": 11,
      "outputs": [
        {
          "output_type": "stream",
          "name": "stdout",
          "text": [
            "\n",
            "Matrice corrélation :\n",
            " [[ 1.     0.5   -0.423]\n",
            " [ 0.5    1.    -0.   ]\n",
            " [-0.423 -0.     1.   ]]\n"
          ]
        }
      ]
    },
    {
      "cell_type": "markdown",
      "source": [
        "## Les valeurs propres\n",
        "- Cherchons les valeurs propres $(\\lambda)$ tel que :$\\det(R - \\lambda I) = 0$\n",
        "\n",
        "\n",
        "$$\n",
        "\\det(R - \\lambda I) =\n",
        "\\begin{vmatrix}\n",
        "1 - \\lambda & 0.5 & -0.42 \\\\\n",
        "0.5 & 1 - \\lambda & 0 \\\\\n",
        "-0.42 & 0 & 1 - \\lambda\n",
        "\\end{vmatrix}=\n",
        "(1 - \\lambda)\n",
        "\\begin{vmatrix}\n",
        "1 - \\lambda & 0 \\\\\n",
        "0 & 1 - \\lambda\n",
        "\\end{vmatrix}\n",
        "- 0.5\n",
        "\\begin{vmatrix}\n",
        "0.5 & 0 \\\\\n",
        "-0.42 & 1 - \\lambda\n",
        "\\end{vmatrix}\n",
        "- 0.42\n",
        "\\begin{vmatrix}\n",
        "0.5 & 1 - \\lambda \\\\\n",
        "-0.42 & 0\n",
        "\\end{vmatrix}\n",
        "$$\n",
        "\n",
        "\n",
        "\n",
        "D'où :\n",
        "\n",
        "$$\n",
        "\\det(R - \\lambda I) = (1 - \\lambda)^3 - 0.25 (1 - \\lambda) - 0.1764 (1 - \\lambda) = (1 - \\lambda) \\left[(1 - \\lambda)^2 - 0.4264\\right]\n",
        "$$\n",
        "\n",
        "On résout donc :\n",
        "$$\n",
        "(1 - \\lambda) = 0 \\quad \\text{ou} \\quad (1 - \\lambda)^2 = 0.4264\n",
        "$$\n",
        "\n",
        "Les solutions sont :\n",
        "\n",
        "$$\n",
        "\\lambda_1 = 1, \\quad \\lambda_2 = 1 - \\sqrt{0.4264} \\approx 0.3463, \\quad \\lambda_3 = 1 + \\sqrt{0.4264} \\approx 1.6537\n",
        "$$\n"
      ],
      "metadata": {
        "id": "Ch_NRhKvomOw"
      }
    },
    {
      "cell_type": "code",
      "source": [
        "eigenvalues, _ = np.linalg.eig(R)\n",
        "print(np.round(eigenvalues, 4))"
      ],
      "metadata": {
        "colab": {
          "base_uri": "https://localhost:8080/"
        },
        "id": "kmMqwvU71qcE",
        "outputId": "ac9883f6-aafc-4a7b-9d65-fb7289b1103a"
      },
      "execution_count": 12,
      "outputs": [
        {
          "output_type": "stream",
          "name": "stdout",
          "text": [
            "[1.6547 0.3453 1.    ]\n"
          ]
        }
      ]
    },
    {
      "cell_type": "markdown",
      "source": [
        "##Les vecteurs propres:\n",
        "\n",
        "Pour chaque valeur propre $(\\lambda)$, le vecteur propre $(\\mathbf{v})$ non nul vérifie :$(R - \\lambda I) \\mathbf{v} = \\mathbf{0}$\n",
        "\n",
        "- Pour $(\\lambda_1 = 1.6537)$\n",
        "\n",
        "$$\n",
        "\\left(\n",
        "\\begin{bmatrix}\n",
        "1 & 0.5 & -0.42 \\\\\n",
        "0.5 & 1 & 0 \\\\\n",
        "-0.42 & 0 & 1\n",
        "\\end{bmatrix}\n",
        "- 1.6537\n",
        "\\begin{bmatrix}\n",
        "1 & 0 & 0 \\\\\n",
        "0 & 1 & 0 \\\\\n",
        "0 & 0 & 1\n",
        "\\end{bmatrix}\n",
        "\\right)\n",
        "\\mathbf{v} = \\mathbf{0}\n",
        "$$\n",
        "$$\n",
        "\\Rightarrow\n",
        "\\begin{bmatrix}\n",
        "1 - 1.6537 & 0.5 & -0.42 \\\\\n",
        "0.5 & 1 - 1.6537 & 0 \\\\\n",
        "-0.42 & 0 & 1 - 1.6537\n",
        "\\end{bmatrix}\n",
        "\\mathbf{v} = \\mathbf{0}\n",
        "\\quad\n",
        "\\Rightarrow \\quad\n",
        "\\begin{bmatrix}\n",
        "-0.6537 & 0.5 & -0.42 \\\\\n",
        "0.5 & -0.6537 & 0 \\\\\n",
        "-0.42 & 0 & -0.6537\n",
        "\\end{bmatrix}\n",
        "\\mathbf{v} = \\mathbf{0}\n",
        "$$\n",
        "$$\n",
        "\\Rightarrow \\quad\n",
        "\\begin{cases}\n",
        "-0.6537 v_1 + 0.5 v_2 - 0.42 v_3 = 0 \\\\\n",
        "0.5 v_1 - 0.6537 v_2 = 0 \\\\\n",
        "-0.42 v_1 - 0.6537 v_3 = 0\n",
        "\\end{cases}\n",
        "$$\n",
        "$$\n",
        "\\Rightarrow \\quad\n",
        "\\begin{cases}\n",
        "-0.6537 v_1 + 0.5 v_2 - 0.42 v_3 = 0 \\\\\n",
        " v_2 = \\dfrac{0.6537}{0.5} v_1\\\\\n",
        " v_3 =\\dfrac{0.6537}{-0.42}v_1\n",
        "\\end{cases}\n",
        "$$\n",
        "$$\n",
        "\\Rightarrow\n",
        "\\begin{cases}\n",
        "v_2 = \\dfrac{0.5}{0.6537} v_1 \\approx 0.7647 v_1 \\\\\n",
        "v_3 = \\dfrac{-0.42}{0.6537} v_1 \\approx -0.6424 v_1\n",
        "\\end{cases}\n",
        "$$\n",
        "\n",
        "  - Vecteur propre associé à $ \\lambda_1 $\n",
        "\n",
        "$$\n",
        "\\mathbf{v}_1 = v_1 \\cdot\n",
        "\\begin{bmatrix}\n",
        "1 \\\\\n",
        "0.7647 \\\\\n",
        "-0.6424\n",
        "\\end{bmatrix}\n",
        "\\quad\n",
        "$$\n",
        "\n",
        " - On peut le normaliser :\n",
        "  - Sa norme: $$\\|\\mathbf{v}_1\\| = \\sqrt{1^2 + 0.7647^2 + (-0.6424)^2} = \\sqrt{1.9975} \\approx 1.4133$$\n",
        "  - Le vecteur propre normalisé :\n",
        "$$\n",
        "\\mathbf{u}_1 = \\frac{1}{1.4133} \\cdot\n",
        "\\begin{bmatrix}\n",
        "1 \\\\\n",
        "0.7647 \\\\\n",
        "-0.6424\n",
        "\\end{bmatrix}\n",
        "\\approx\n",
        "\\begin{bmatrix}\n",
        "0.7073 \\\\\n",
        "0.5408 \\\\\n",
        "-0.4544\n",
        "\\end{bmatrix}\n",
        "$$\n",
        "- Pour $(\\lambda_2 = 0.3463)$\n",
        "$$\n",
        "\\mathbf{v}_2 =\n",
        "\\begin{bmatrix}\n",
        "1 \\\\\n",
        "-0.7071 \\\\\n",
        "0.7071\n",
        "\\end{bmatrix}\n",
        "$$\n",
        "\n",
        "$$\n",
        "\\|\\mathbf{v}_2\\| = \\sqrt{1^2 + (-0.7071)^2 + (0.7071)^2} = \\sqrt{1 + 0.5 + 0.5} = \\sqrt{2} \\approx 1.4142\n",
        "$$\n",
        "\n",
        "Vecteur normalisé :\n",
        "$$\n",
        "\\mathbf{u}_2 = \\frac{1}{1.4142}\n",
        "\\begin{bmatrix}\n",
        "1 \\\\\n",
        "-0.7071 \\\\\n",
        "0.7071\n",
        "\\end{bmatrix}\n",
        "\\approx\n",
        "\\begin{bmatrix}\n",
        "0.7071 \\\\\n",
        "-0.5 \\\\\n",
        "0.5\n",
        "\\end{bmatrix}\n",
        "$$\n",
        "\n",
        "- Pour $(\\lambda_3 = 1.6537)$\n",
        "\n",
        "\n",
        "$$\n",
        "\\|\\mathbf{v}_3\\| = \\sqrt{1^2 + (-0.5)^2 + (-0.5)^2} = \\sqrt{1 + 0.25 + 0.25} = \\sqrt{1.5} \\approx 1.2247\n",
        "$$\n",
        "\n",
        "$$\n",
        "\\mathbf{u}_3 = \\frac{1}{1.2247}\n",
        "\\begin{bmatrix}\n",
        "1 \\\\\n",
        "-0.5 \\\\\n",
        "-0.5\n",
        "\\end{bmatrix}\n",
        "\\approx\n",
        "\\begin{bmatrix}\n",
        "0.8165 \\\\\n",
        "-0.4082 \\\\\n",
        "-0.4082\n",
        "\\end{bmatrix}\n",
        "$$\n"
      ],
      "metadata": {
        "id": "4nIY9Kxa11oa"
      }
    },
    {
      "cell_type": "code",
      "source": [
        "#valeurs propres et vecteurs propres\n",
        "eigenvalues, eigenvectors = np.linalg.eig(R)\n",
        "\n",
        "# Arrondi\n",
        "eigenvectors_rounded = np.round(eigenvectors, 4)\n",
        "\n",
        "print(\"\\nVecteurs propres (chaque colonne correspond à un vecteur propre) :\")\n",
        "print(eigenvectors_rounded)"
      ],
      "metadata": {
        "colab": {
          "base_uri": "https://localhost:8080/"
        },
        "id": "z00qoKI7_Q29",
        "outputId": "06e4840e-31fa-4abe-e72d-81f7e228c123"
      },
      "execution_count": 13,
      "outputs": [
        {
          "output_type": "stream",
          "name": "stdout",
          "text": [
            "\n",
            "Vecteurs propres (chaque colonne correspond à un vecteur propre) :\n",
            "[[ 0.7071  0.7071  0.    ]\n",
            " [ 0.5401 -0.5401  0.6455]\n",
            " [-0.4564  0.4564  0.7638]]\n"
          ]
        }
      ]
    },
    {
      "cell_type": "markdown",
      "source": [
        "#### Choisir 2 composantes principales"
      ],
      "metadata": {
        "id": "qMqSwfoIAuUF"
      }
    },
    {
      "cell_type": "code",
      "source": [
        "N = 2\n",
        "composantes_principales = eigenvectors[:, :N]\n",
        "print(f\"\\nTop {N} composantes principales:\\n\", composantes_principales)"
      ],
      "metadata": {
        "colab": {
          "base_uri": "https://localhost:8080/"
        },
        "id": "IongEDe_BXcN",
        "outputId": "aa43f47f-65d4-4fb3-de72-8640ce28a04a"
      },
      "execution_count": 14,
      "outputs": [
        {
          "output_type": "stream",
          "name": "stdout",
          "text": [
            "\n",
            "Top 2 composantes principales:\n",
            " [[ 0.70710678  0.70710678]\n",
            " [ 0.54006172 -0.54006172]\n",
            " [-0.45643546  0.45643546]]\n"
          ]
        }
      ]
    },
    {
      "cell_type": "markdown",
      "source": [
        "### Projeter les données centrées sur les nouvelles composantes principales"
      ],
      "metadata": {
        "id": "0yCX2KIdNoJi"
      }
    },
    {
      "cell_type": "code",
      "source": [
        "X_projected = X_centre @ composantes_principales\n",
        "print(\"\\nProjeter les données sur les nouvelles composantes principales:\\n\", X_projected)"
      ],
      "metadata": {
        "colab": {
          "base_uri": "https://localhost:8080/"
        },
        "id": "uZJrKunh8YS-",
        "outputId": "5fda1692-9b69-4873-c1ef-47437c07d23f"
      },
      "execution_count": 15,
      "outputs": [
        {
          "output_type": "stream",
          "name": "stdout",
          "text": [
            "\n",
            "Projeter les données sur les nouvelles composantes principales:\n",
            " [[ 0.44877463 -0.44877463]\n",
            " [ 1.07225515  0.34195841]\n",
            " [-1.3384556  -0.07575796]\n",
            " [-0.54772256  0.54772256]\n",
            " [ 0.36514837 -0.36514837]]\n"
          ]
        }
      ]
    },
    {
      "cell_type": "markdown",
      "source": [
        "## Tracer les points"
      ],
      "metadata": {
        "id": "EzTxzNr2Caol"
      }
    },
    {
      "cell_type": "code",
      "source": [
        "plt.figure(figsize=(8,6))\n",
        "plt.scatter(X_projected[:,0], X_projected[:,1], color='blue', edgecolor='k', s=100)\n",
        "\n",
        "for i, (x, y) in enumerate(X_projected):\n",
        "    plt.text(x + 0.05, y + 0.05, f\"Sample {i+1}\", fontsize=9)\n",
        "\n",
        "plt.xlabel('Composante principale 1')\n",
        "plt.ylabel('Composante principale 2')\n",
        "plt.title('Projection des données sur les 2 premières composantes principales (PCA)')\n",
        "plt.grid(True)\n",
        "plt.axhline(0, color='gray', linestyle='--', linewidth=0.8)\n",
        "plt.axvline(0, color='gray', linestyle='--', linewidth=0.8)\n",
        "plt.show()"
      ],
      "metadata": {
        "id": "ASjFpG3SNZ8M",
        "colab": {
          "base_uri": "https://localhost:8080/",
          "height": 565
        },
        "outputId": "1eab8a54-502e-4edf-a891-bf863252678b"
      },
      "execution_count": 16,
      "outputs": [
        {
          "output_type": "display_data",
          "data": {
            "text/plain": [
              "<Figure size 800x600 with 1 Axes>"
            ],
            "image/png": "[encoded data removed]"
          },
          "metadata": {}
        }
      ]
    }
  ]
}